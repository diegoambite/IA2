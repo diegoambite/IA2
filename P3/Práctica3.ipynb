{
 "cells": [
  {
   "cell_type": "markdown",
   "metadata": {},
   "source": [
    "# Práctica 3. Consultas SPARQL sobre Wikidata #"
   ]
  },
  {
   "cell_type": "markdown",
   "metadata": {},
   "source": [
    "Grupo 16: Adina Han y Diego Ambite"
   ]
  },
  {
   "cell_type": "markdown",
   "metadata": {},
   "source": [
    "## Consulta 1 ##"
   ]
  },
  {
   "cell_type": "markdown",
   "metadata": {},
   "source": [
    "Hans Zimmer (Q76364) es un famoso compositor de muchas bandas sonoras de películas. Vamos a comenzar por averiguar su fecha y lugar de nacimiento"
   ]
  },
  {
   "cell_type": "markdown",
   "metadata": {},
   "source": [
    "#### Para esat consulta tan tan solo vamos a necesitar recuperar dos variables, el lugar de nacimiento y el dia, no obstante tambien vamos a añadir el lugar de naciemiento con label para que así tengamos su nombre y no su ID ####\n",
    "#### Tambien vamos a hacer uso de la sintaxis avanzada se SPARQL para concatenar en ambas tripletas la misma variable, que en este caso es Hans Zimmer ####"
   ]
  },
  {
   "cell_type": "raw",
   "metadata": {},
   "source": [
    "SELECT ?placeLabel ?birth ?place \n",
    "WHERE \n",
    "{\n",
    "  wd:Q76364 wdt:P19 ?place;\n",
    "            wdt:P569 ?birth.\n",
    "  \n",
    "   SERVICE wikibase:label { bd:serviceParam wikibase:language \"[AUTO_LANGUAGE],en\". }\n",
    "}"
   ]
  },
  {
   "cell_type": "markdown",
   "metadata": {},
   "source": [
    "<html><head><meta charset=\"utf-8\"></head><body><table><thead><tr><th>placeLabel</th><th>birth</th><th>place</th></tr></thead><tbody><tr><td>Fráncfort del Meno</td><td>1957-09-12T00:00:00Z</td><td>http://www.wikidata.org/entity/Q1794</td></tr></tbody></table></body></html>"
   ]
  },
  {
   "cell_type": "markdown",
   "metadata": {},
   "source": [
    "## Consulta 2 ##"
   ]
  },
  {
   "cell_type": "markdown",
   "metadata": {},
   "source": [
    "A continuación, vamos a averiguar los instrumentos que toca. Queremos obtener los resultados ordenados alfabéticamente por el nombre del instrumento."
   ]
  },
  {
   "cell_type": "markdown",
   "metadata": {},
   "source": [
    "#### Para esta cosulta queremos recuperar la variable de los instrumentos que toca, junto con su label para poder interpretarlo.####\n",
    "#### Solo hará falta hacer uso de una tripleta, ya que es una consulta directa ####\n",
    "#### En última instancia usaremos el ORDER BY para obtener el orden alfabetico que se nos requiere ####"
   ]
  },
  {
   "cell_type": "raw",
   "metadata": {},
   "source": [
    "SELECT ?instrumentsLabel ?instruments \n",
    "WHERE \n",
    "{\n",
    "  wd:Q76364 wdt:P1303 ?instruments.\n",
    "  \n",
    "   SERVICE wikibase:label { bd:serviceParam wikibase:language \"[AUTO_LANGUAGE],en\". }\n",
    "} ORDER BY ?instrumentsLabel"
   ]
  },
  {
   "cell_type": "markdown",
   "metadata": {},
   "source": [
    "<html><head><meta charset=\"utf-8\"></head><body><table><thead><tr><th>instrumentsLabel</th><th>instruments</th></tr></thead><tbody><tr><td>banjo</td><td>http://www.wikidata.org/entity/Q258896</td></tr><tr><td>guitarra</td><td>http://www.wikidata.org/entity/Q6607</td></tr><tr><td>piano</td><td>http://www.wikidata.org/entity/Q5994</td></tr><tr><td>sintetizador</td><td>http://www.wikidata.org/entity/Q163829</td></tr><tr><td>teclado</td><td>http://www.wikidata.org/entity/Q52954</td></tr></tbody></table></body></html>"
   ]
  },
  {
   "cell_type": "markdown",
   "metadata": {},
   "source": [
    "## Consulta 3 ##"
   ]
  },
  {
   "cell_type": "markdown",
   "metadata": {},
   "source": [
    "¿Cuales de los instrumentos que toca son instrumentos de cuerda? Ten en cuenta que los instrumentos pueden ser indirectamente de cuerda a través de varias relaciones subclase."
   ]
  },
  {
   "cell_type": "markdown",
   "metadata": {},
   "source": [
    "#### Una vez mas vamos a querer recuperar solo la variable instrumentos junto con su label ####\n",
    "#### La primera tripleta es la misma que la de la consulta anterior ya que primeramente estamos interesados en, uevamente todos los intrumentos que toca Hans Zimmer, seguidamente vamos a introducir la restricción de que estos instrumentos deben de ser de la subclase de \"plucked necked box lutes\" es decir que deben de ser instrumentos de cuerda. ####"
   ]
  },
  {
   "cell_type": "raw",
   "metadata": {},
   "source": [
    "SELECT ?instrumentsLabel ?instruments\n",
    "WHERE {\n",
    "  wd:Q76364 wdt:P1303 ?instruments.\n",
    "  ?instruments wdt:P279 wd:Q57306162.\n",
    "  SERVICE wikibase:label { bd:serviceParam wikibase:language \"[AUTO_LANGUAGE],en\". }\n",
    "}"
   ]
  },
  {
   "cell_type": "markdown",
   "metadata": {},
   "source": [
    "<html><head><meta charset=\"utf-8\"></head><body><table><thead><tr><th>instrumentsLabel</th><th>instruments</th></tr></thead><tbody><tr><td>banjo</td><td>http://www.wikidata.org/entity/Q258896</td></tr><tr><td>guitarra</td><td>http://www.wikidata.org/entity/Q6607</td></tr></tbody></table></body></html>"
   ]
  },
  {
   "cell_type": "markdown",
   "metadata": {},
   "source": [
    "## Consulta 4 ##"
   ]
  },
  {
   "cell_type": "markdown",
   "metadata": {},
   "source": [
    "Zimmer ha recibido muchas nominaciones y premios a lo largo de su carrera. Queremos obtener una lista de nominaciones y para cada una de ellas el trabajo por el cual fue nominado.\n",
    "\n",
    "Para resolver esta consulta necesitarás acceder a los cualificadores de nodos sentencia y necesitarás entender los prefijos que usa Wikidata."
   ]
  },
  {
   "cell_type": "code",
   "execution_count": null,
   "metadata": {},
   "outputs": [],
   "source": []
  },
  {
   "cell_type": "raw",
   "metadata": {},
   "source": [
    "SELECT ?nominacionLabel ?trabajoLabel ?nominacion ?trabajo \n",
    "WHERE {\n",
    "  wd:Q76364 p:P1411 [\n",
    "               ps:P1411 ?nominacion;\n",
    "               pq:P1686 ?trabajo\n",
    "            ].\n",
    "  SERVICE wikibase:label { bd:serviceParam wikibase:language \"[AUTO_LANGUAGE]\". }\n",
    "}"
   ]
  },
  {
   "cell_type": "markdown",
   "metadata": {},
   "source": [
    "<html><head><meta charset=\"utf-8\"></head><body><table><thead><tr><th>nominacionLabel</th><th>trabajoLabel</th><th>nominacion</th><th>trabajo</th></tr></thead><tbody><tr><td>Academy Award for Best Original Musical or Comedy Score</td><td>As Good as It Gets</td><td>http://www.wikidata.org/entity/Q22235305</td><td>http://www.wikidata.org/entity/Q221594</td></tr><tr><td>Academy Award for Best Original Musical or Comedy Score</td><td>The Preacher's Wife</td><td>http://www.wikidata.org/entity/Q22235305</td><td>http://www.wikidata.org/entity/Q1475674</td></tr><tr><td>Academy Award for Best Original Score</td><td>The Lion King</td><td>http://www.wikidata.org/entity/Q488651</td><td>http://www.wikidata.org/entity/Q36479</td></tr><tr><td>Academy Award for Best Original Dramatic Score</td><td>The Thin Red Line</td><td>http://www.wikidata.org/entity/Q22235329</td><td>http://www.wikidata.org/entity/Q221491</td></tr><tr><td>Academy Award for Best Original Score</td><td>Sherlock Holmes</td><td>http://www.wikidata.org/entity/Q488651</td><td>http://www.wikidata.org/entity/Q200396</td></tr><tr><td>Academy Award for Best Original Musical or Comedy Score</td><td>The Prince of Egypt</td><td>http://www.wikidata.org/entity/Q22235305</td><td>http://www.wikidata.org/entity/Q245227</td></tr><tr><td>Academy Award for Best Original Score</td><td>Inception</td><td>http://www.wikidata.org/entity/Q488651</td><td>http://www.wikidata.org/entity/Q25188</td></tr><tr><td>Academy Award for Best Original Score</td><td>Gladiator</td><td>http://www.wikidata.org/entity/Q488651</td><td>http://www.wikidata.org/entity/Q128518</td></tr><tr><td>Academy Award for Best Original Score</td><td>Rain Man</td><td>http://www.wikidata.org/entity/Q488651</td><td>http://www.wikidata.org/entity/Q188845</td></tr><tr><td>Academy Award for Best Original Score</td><td>Interstellar</td><td>http://www.wikidata.org/entity/Q488651</td><td>http://www.wikidata.org/entity/Q13417189</td></tr></tbody></table></body></html>"
   ]
  },
  {
   "cell_type": "markdown",
   "metadata": {},
   "source": [
    "## Consulta 5 ##"
   ]
  },
  {
   "cell_type": "markdown",
   "metadata": {},
   "source": [
    "Ahora queremos conocer el título de todas las películas en las que Zimmer ha colaborado como compositor. Se mostrarán ordenadas alfabéticamente y debes tener cuidado de no mostrar resultados repetidos."
   ]
  },
  {
   "cell_type": "code",
   "execution_count": null,
   "metadata": {},
   "outputs": [],
   "source": []
  },
  {
   "cell_type": "raw",
   "metadata": {},
   "source": [
    "SELECT DISTINCT ?peliculaLabel ?pelicula WHERE {\n",
    "  ?pelicula wdt:P31/wdt:P279* wd:Q11424.\n",
    "  ?pelicula wdt:P86 wd:Q76364.\n",
    "  SERVICE wikibase:label { bd:serviceParam wikibase:language \"[AUTO_LANGUAGE],en\". }\n",
    "}\n",
    "ORDER BY ASC(?peliculaLabel)"
   ]
  },
  {
   "cell_type": "markdown",
   "metadata": {},
   "source": [
    "<html><head><meta charset=\"utf-8\"></head><body><table><thead><tr><th>peliculaLabel</th><th>pelicula</th></tr></thead><tbody><tr><td>Q14947421</td><td>http://www.wikidata.org/entity/Q14947421</td></tr><tr><td>12 Years a Slave</td><td>http://www.wikidata.org/entity/Q3023357</td></tr><tr><td>A League of Their Own</td><td>http://www.wikidata.org/entity/Q1306472</td></tr><tr><td>A World Apart</td><td>http://www.wikidata.org/entity/Q232130</td></tr><tr><td>Ability</td><td>http://www.wikidata.org/entity/Q85536881</td></tr><tr><td>Africa: The Serengeti</td><td>http://www.wikidata.org/entity/Q4689527</td></tr><tr><td>An Everlasting Piece</td><td>http://www.wikidata.org/entity/Q4749984</td></tr><tr><td>Angels &amp; Demons</td><td>http://www.wikidata.org/entity/Q192934</td></tr><tr><td>As Good as It Gets</td><td>http://www.wikidata.org/entity/Q221594</td></tr><tr><td>Backdraft</td><td>http://www.wikidata.org/entity/Q499371</td></tr><tr><td>Batkid</td><td>http://www.wikidata.org/entity/Q16155083</td></tr><tr><td>Batman Begins</td><td>http://www.wikidata.org/entity/Q166262</td></tr><tr><td>Batman v Superman: Dawn of Justice</td><td>http://www.wikidata.org/entity/Q14772351</td></tr><tr><td>Believer</td><td>http://www.wikidata.org/entity/Q47069744</td></tr><tr><td>Beyond Rangoon</td><td>http://www.wikidata.org/entity/Q1753610</td></tr><tr><td>Bird on a Wire</td><td>http://www.wikidata.org/entity/Q135347</td></tr><tr><td>Black Hawk Down</td><td>http://www.wikidata.org/entity/Q221384</td></tr><tr><td>Black Rain</td><td>http://www.wikidata.org/entity/Q1048085</td></tr><tr><td>Blade Runner 2049</td><td>http://www.wikidata.org/entity/Q21500755</td></tr><tr><td>Broken Arrow</td><td>http://www.wikidata.org/entity/Q392915</td></tr><tr><td>Burning Secret</td><td>http://www.wikidata.org/entity/Q583623</td></tr><tr><td>Calendar Girl</td><td>http://www.wikidata.org/entity/Q3402011</td></tr><tr><td>Chappie</td><td>http://www.wikidata.org/entity/Q15209986</td></tr><tr><td>Chicago Joe and the Showgirl</td><td>http://www.wikidata.org/entity/Q2963312</td></tr><tr><td>Chill Factor</td><td>http://www.wikidata.org/entity/Q1192764</td></tr><tr><td>Cool Runnings</td><td>http://www.wikidata.org/entity/Q282748</td></tr><tr><td>Crimson Tide</td><td>http://www.wikidata.org/entity/Q1140085</td></tr><tr><td>Dark Obsession</td><td>http://www.wikidata.org/entity/Q4096517</td></tr><tr><td>Dark Phoenix</td><td>http://www.wikidata.org/entity/Q31188935</td></tr><tr><td>Days of Thunder</td><td>http://www.wikidata.org/entity/Q603696</td></tr><tr><td>Driving Miss Daisy</td><td>http://www.wikidata.org/entity/Q211373</td></tr><tr><td>Drop Zone</td><td>http://www.wikidata.org/entity/Q1260289</td></tr><tr><td>Dune</td><td>http://www.wikidata.org/entity/Q60834962</td></tr><tr><td>Dunkirk</td><td>http://www.wikidata.org/entity/Q21935651</td></tr><tr><td>Fools of Fortune</td><td>http://www.wikidata.org/entity/Q4376535</td></tr><tr><td>Founders of Isfahan college of Physics</td><td>http://www.wikidata.org/entity/Q86458113</td></tr><tr><td>Freeheld</td><td>http://www.wikidata.org/entity/Q18210299</td></tr><tr><td>Freeheld</td><td>http://www.wikidata.org/entity/Q2066933</td></tr><tr><td>Frost/Nixon</td><td>http://www.wikidata.org/entity/Q691672</td></tr><tr><td>Gladiator</td><td>http://www.wikidata.org/entity/Q128518</td></tr><tr><td>Green Card</td><td>http://www.wikidata.org/entity/Q505135</td></tr><tr><td>Hannibal</td><td>http://www.wikidata.org/entity/Q722682</td></tr><tr><td>Hidden Figures</td><td>http://www.wikidata.org/entity/Q23755544</td></tr><tr><td>Hillbilly Elegy</td><td>http://www.wikidata.org/entity/Q65090738</td></tr><tr><td>How Do You Know</td><td>http://www.wikidata.org/entity/Q523197</td></tr><tr><td>I'll Do Anything</td><td>http://www.wikidata.org/entity/Q853425</td></tr><tr><td>Inception</td><td>http://www.wikidata.org/entity/Q25188</td></tr><tr><td>Inception</td><td>http://www.wikidata.org/entity/Q85520081</td></tr><tr><td>Inferno</td><td>http://www.wikidata.org/entity/Q18192306</td></tr><tr><td>Interstellar</td><td>http://www.wikidata.org/entity/Q13417189</td></tr><tr><td>Invincible</td><td>http://www.wikidata.org/entity/Q640762</td></tr><tr><td>It's Complicated</td><td>http://www.wikidata.org/entity/Q843950</td></tr><tr><td>King Arthur</td><td>http://www.wikidata.org/entity/Q337090</td></tr><tr><td>Kung Fu Panda</td><td>http://www.wikidata.org/entity/Q129193</td></tr><tr><td>Kung Fu Panda 2</td><td>http://www.wikidata.org/entity/Q487447</td></tr><tr><td>Kung Fu Panda 3</td><td>http://www.wikidata.org/entity/Q15055043</td></tr><tr><td>Laura's Star</td><td>http://www.wikidata.org/entity/Q329603</td></tr><tr><td>Madagascar</td><td>http://www.wikidata.org/entity/Q174555</td></tr><tr><td>Madagascar 3: Europe's Most Wanted</td><td>http://www.wikidata.org/entity/Q244247</td></tr><tr><td>Madagascar: Escape 2 Africa</td><td>http://www.wikidata.org/entity/Q188474</td></tr><tr><td>Man of Steel</td><td>http://www.wikidata.org/entity/Q622769</td></tr><tr><td>Matchstick Men</td><td>http://www.wikidata.org/entity/Q4536</td></tr><tr><td>Megamind</td><td>http://www.wikidata.org/entity/Q81205</td></tr><tr><td>Megamind: The Button of Doom</td><td>http://www.wikidata.org/entity/Q4286601</td></tr><tr><td>Mission: Impossible II</td><td>http://www.wikidata.org/entity/Q505790</td></tr><tr><td>Mr. Morgan's Last Love</td><td>http://www.wikidata.org/entity/Q6928990</td></tr><tr><td>Muppet Treasure Island</td><td>http://www.wikidata.org/entity/Q1788520</td></tr><tr><td>Nightmare at Noon</td><td>http://www.wikidata.org/entity/Q18511204</td></tr><tr><td>Nine Months</td><td>http://www.wikidata.org/entity/Q955389</td></tr><tr><td>No Time to Die</td><td>http://www.wikidata.org/entity/Q21534241</td></tr><tr><td>Pacific Heights</td><td>http://www.wikidata.org/entity/Q1148079</td></tr><tr><td>Pearl Harbor</td><td>http://www.wikidata.org/entity/Q194413</td></tr><tr><td>Pirates of the Caribbean: At World's End</td><td>http://www.wikidata.org/entity/Q54274</td></tr><tr><td>Pirates of the Caribbean: Dead Man's Chest</td><td>http://www.wikidata.org/entity/Q161087</td></tr><tr><td>Pirates of the Caribbean: Dead Men Tell No Tales</td><td>http://www.wikidata.org/entity/Q10350033</td></tr><tr><td>Pirates of the Caribbean: On Stranger Tides</td><td>http://www.wikidata.org/entity/Q183555</td></tr><tr><td>Pirates of the Caribbean: The Curse of the Black Pearl</td><td>http://www.wikidata.org/entity/Q46717</td></tr><tr><td>Point of No Return</td><td>http://www.wikidata.org/entity/Q577469</td></tr><tr><td>Radio Flyer</td><td>http://www.wikidata.org/entity/Q12128282</td></tr><tr><td>Rain Man</td><td>http://www.wikidata.org/entity/Q188845</td></tr><tr><td>Rango</td><td>http://www.wikidata.org/entity/Q275432</td></tr><tr><td>Regarding Henry</td><td>http://www.wikidata.org/entity/Q603865</td></tr><tr><td>Renaissance Man</td><td>http://www.wikidata.org/entity/Q129288</td></tr><tr><td>Riding in Cars with Boys</td><td>http://www.wikidata.org/entity/Q1313530</td></tr><tr><td>Rings</td><td>http://www.wikidata.org/entity/Q3936037</td></tr><tr><td>Rush</td><td>http://www.wikidata.org/entity/Q1768437</td></tr><tr><td>Sadako 3D</td><td>http://www.wikidata.org/entity/Q1058489</td></tr><tr><td>Separate Vacations</td><td>http://www.wikidata.org/entity/Q57983078</td></tr><tr><td>Shark Tale</td><td>http://www.wikidata.org/entity/Q120367</td></tr><tr><td>Sherlock Holmes</td><td>http://www.wikidata.org/entity/Q200396</td></tr><tr><td>Sherlock Holmes: A Game of Shadows</td><td>http://www.wikidata.org/entity/Q243643</td></tr><tr><td>Something to Talk About</td><td>http://www.wikidata.org/entity/Q1544085</td></tr><tr><td>Something's Gotta Givej</td><td>http://www.wikidata.org/entity/Q584766</td></tr><tr><td>Son of God</td><td>http://www.wikidata.org/entity/Q15137718</td></tr><tr><td>Son of Morning</td><td>http://www.wikidata.org/entity/Q3964671</td></tr><tr><td>Space Jam: A New Legacy</td><td>http://www.wikidata.org/entity/Q56850065</td></tr><tr><td>Spanglish</td><td>http://www.wikidata.org/entity/Q1367647</td></tr><tr><td>Spirit: Stallion of the Cimarron</td><td>http://www.wikidata.org/entity/Q641315</td></tr><tr><td>Tears of the Sun</td><td>http://www.wikidata.org/entity/Q459889</td></tr><tr><td>Terminal Exposure</td><td>http://www.wikidata.org/entity/Q7702661</td></tr><tr><td>The Amazing Spider-Man 2</td><td>http://www.wikidata.org/entity/Q4254026</td></tr><tr><td>The Bible</td><td>http://www.wikidata.org/entity/Q7717444</td></tr><tr><td>The Boat That Rocked</td><td>http://www.wikidata.org/entity/Q856805</td></tr><tr><td>The Boss Baby</td><td>http://www.wikidata.org/entity/Q18619153</td></tr><tr><td>The Da Vinci Code</td><td>http://www.wikidata.org/entity/Q160560</td></tr><tr><td>The Dark Knight</td><td>http://www.wikidata.org/entity/Q163872</td></tr><tr><td>The Dark Knight Rises</td><td>http://www.wikidata.org/entity/Q189330</td></tr><tr><td>The Dilemma</td><td>http://www.wikidata.org/entity/Q1210206</td></tr><tr><td>The Fan</td><td>http://www.wikidata.org/entity/Q390299</td></tr><tr><td>The Fruit Machine</td><td>http://www.wikidata.org/entity/Q7735390</td></tr><tr><td>The Holiday</td><td>http://www.wikidata.org/entity/Q478748</td></tr><tr><td>The House of the Spirits</td><td>http://www.wikidata.org/entity/Q312394</td></tr><tr><td>The Last Days</td><td>http://www.wikidata.org/entity/Q571014</td></tr><tr><td>The Last Face</td><td>http://www.wikidata.org/entity/Q18151554</td></tr><tr><td>The Last Samurai</td><td>http://www.wikidata.org/entity/Q207130</td></tr><tr><td>The Lightship</td><td>http://www.wikidata.org/entity/Q2406188</td></tr><tr><td>The Lion King</td><td>http://www.wikidata.org/entity/Q27044293</td></tr><tr><td>The Lion King</td><td>http://www.wikidata.org/entity/Q36479</td></tr><tr><td>The Lion King II: Simba's Pride</td><td>http://www.wikidata.org/entity/Q191803</td></tr><tr><td>The Little Prince</td><td>http://www.wikidata.org/entity/Q16386722</td></tr><tr><td>The Lone Ranger</td><td>http://www.wikidata.org/entity/Q548919</td></tr><tr><td>The Longest Daycare</td><td>http://www.wikidata.org/entity/Q255309</td></tr><tr><td>The Peacemaker</td><td>http://www.wikidata.org/entity/Q1141706</td></tr><tr><td>The Power of One</td><td>http://www.wikidata.org/entity/Q150949</td></tr><tr><td>The Preacher's Wife</td><td>http://www.wikidata.org/entity/Q1475674</td></tr><tr><td>The Prince of Egypt</td><td>http://www.wikidata.org/entity/Q245227</td></tr><tr><td>The Punisher: Dirty Laundry</td><td>http://www.wikidata.org/entity/Q1354326</td></tr><tr><td>The Ring</td><td>http://www.wikidata.org/entity/Q212804</td></tr><tr><td>The Road of Love</td><td>http://www.wikidata.org/entity/Q85530211</td></tr><tr><td>The Road to El Dorado</td><td>http://www.wikidata.org/entity/Q866358</td></tr><tr><td>The Rock</td><td>http://www.wikidata.org/entity/Q216720</td></tr><tr><td>The Secret Life of Pets</td><td>http://www.wikidata.org/entity/Q18844656</td></tr><tr><td>The Simpsons Movie</td><td>http://www.wikidata.org/entity/Q182254</td></tr><tr><td>The SpongeBob Movie: Sponge on the Run</td><td>http://www.wikidata.org/entity/Q61450772</td></tr><tr><td>The Thin Red Line</td><td>http://www.wikidata.org/entity/Q221491</td></tr><tr><td>The Weather Man</td><td>http://www.wikidata.org/entity/Q60296</td></tr><tr><td>The Wind</td><td>http://www.wikidata.org/entity/Q27958082</td></tr><tr><td>The Woman in Gold</td><td>http://www.wikidata.org/entity/Q17184103</td></tr><tr><td>The Zero Boys</td><td>http://www.wikidata.org/entity/Q4327979</td></tr><tr><td>Thelma &amp; Louise</td><td>http://www.wikidata.org/entity/Q658041</td></tr><tr><td>Top Gun: Maverick</td><td>http://www.wikidata.org/entity/Q31202708</td></tr><tr><td>Toys</td><td>http://www.wikidata.org/entity/Q1849238</td></tr><tr><td>True Romance</td><td>http://www.wikidata.org/entity/Q1127709</td></tr><tr><td>Twister</td><td>http://www.wikidata.org/entity/Q4424430</td></tr><tr><td>Two Deaths</td><td>http://www.wikidata.org/entity/Q7858914</td></tr><tr><td>White Fang</td><td>http://www.wikidata.org/entity/Q135491</td></tr><tr><td>Widows</td><td>http://www.wikidata.org/entity/Q29163736</td></tr><tr><td>Winter's Tale</td><td>http://www.wikidata.org/entity/Q3569395</td></tr><tr><td>Wonder Woman 1984</td><td>http://www.wikidata.org/entity/Q33408623</td></tr><tr><td>Younger and Younger</td><td>http://www.wikidata.org/entity/Q1472370</td></tr></tbody></table></body></html>"
   ]
  },
  {
   "cell_type": "markdown",
   "metadata": {},
   "source": [
    "## Consulta 6 ##"
   ]
  },
  {
   "cell_type": "markdown",
   "metadata": {},
   "source": [
    "Zimmer es sin duda un compositor prolífico. ¿Exactamente en cuentas películas ha participado como compositor?"
   ]
  },
  {
   "cell_type": "code",
   "execution_count": null,
   "metadata": {},
   "outputs": [],
   "source": []
  },
  {
   "cell_type": "raw",
   "metadata": {},
   "source": [
    "SELECT (COUNT(*) as ?cuenta)\n",
    "where {\n",
    " SELECT DISTINCT ?pelicula \n",
    "  WHERE {\n",
    "    ?pelicula wdt:P31/wdt:P279* wd:Q11424.\n",
    "    ?pelicula wdt:P86 wd:Q76364.\n",
    "  }\n",
    "}"
   ]
  },
  {
   "cell_type": "markdown",
   "metadata": {},
   "source": [
    "<html><head><meta charset=\"utf-8\"></head><body><table><thead><tr><th>cuenta</th></tr></thead><tbody><tr><td>150</td></tr></tbody></table></body></html>"
   ]
  },
  {
   "cell_type": "markdown",
   "metadata": {},
   "source": [
    "## Consulta 7 ##"
   ]
  },
  {
   "cell_type": "markdown",
   "metadata": {},
   "source": [
    "Es importante que las películas tengan una duración adecuada, ni muy cortas ni demasiado largas. De todas las películas en las que ha colaborado Zimmer como compositor, ¿cuáles duran entre 90 y 120 minutos? Muestra los resultados ordenados alfabéticamente. Para cada película muestra el título y la duración."
   ]
  },
  {
   "cell_type": "markdown",
   "metadata": {},
   "source": [
    "Algunas películas (como Salto al peligro) pueden tener varias duraciones (supongo que son distintas versiones de la película). En este apartado no importa si aparecen varias veces en los resultados."
   ]
  },
  {
   "cell_type": "code",
   "execution_count": null,
   "metadata": {},
   "outputs": [],
   "source": []
  },
  {
   "cell_type": "raw",
   "metadata": {},
   "source": [
    "SELECT  ?peliculaLabel ?duracion ?pelicula\n",
    "WHERE {\n",
    "  ?pelicula wdt:P31/wdt:P279* wd:Q11424.\n",
    "  ?pelicula wdt:P86 wd:Q76364;\n",
    "            wdt:P2047 ?duracion.\n",
    "  FILTER(?duracion > 90 && ?duracion < 120).\n",
    "  SERVICE wikibase:label { bd:serviceParam wikibase:language \"[AUTO_LANGUAGE],en\". }\n",
    "}\n",
    "ORDER BY ASC(?peliculaLabel)"
   ]
  },
  {
   "cell_type": "markdown",
   "metadata": {},
   "source": [
    "<html><head><meta charset=\"utf-8\"></head><body><table><thead><tr><th>peliculaLabel</th><th>duracion</th><th>pelicula</th></tr></thead><tbody><tr><td>A World Apart</td><td>112</td><td>http://www.wikidata.org/entity/Q232130</td></tr><tr><td>An Everlasting Piece</td><td>108</td><td>http://www.wikidata.org/entity/Q4749984</td></tr><tr><td>Beyond Rangoon</td><td>95</td><td>http://www.wikidata.org/entity/Q1753610</td></tr><tr><td>Bird on a Wire</td><td>110</td><td>http://www.wikidata.org/entity/Q135347</td></tr><tr><td>Broken Arrow</td><td>110</td><td>http://www.wikidata.org/entity/Q392915</td></tr><tr><td>Chicago Joe and the Showgirl</td><td>103</td><td>http://www.wikidata.org/entity/Q2963312</td></tr><tr><td>Chill Factor</td><td>101</td><td>http://www.wikidata.org/entity/Q1192764</td></tr><tr><td>Cool Runnings</td><td>98</td><td>http://www.wikidata.org/entity/Q282748</td></tr><tr><td>Crimson Tide</td><td>111</td><td>http://www.wikidata.org/entity/Q1140085</td></tr><tr><td>Dark Phoenix</td><td>114</td><td>http://www.wikidata.org/entity/Q31188935</td></tr><tr><td>Dark Phoenix</td><td>114</td><td>http://www.wikidata.org/entity/Q31188935</td></tr><tr><td>Days of Thunder</td><td>107</td><td>http://www.wikidata.org/entity/Q603696</td></tr><tr><td>Driving Miss Daisy</td><td>99</td><td>http://www.wikidata.org/entity/Q211373</td></tr><tr><td>Drop Zone</td><td>98</td><td>http://www.wikidata.org/entity/Q1260289</td></tr><tr><td>Drop Zone</td><td>101</td><td>http://www.wikidata.org/entity/Q1260289</td></tr><tr><td>Drop Zone</td><td>102</td><td>http://www.wikidata.org/entity/Q1260289</td></tr><tr><td>Dunkirk</td><td>106</td><td>http://www.wikidata.org/entity/Q21935651</td></tr><tr><td>Freeheld</td><td>103</td><td>http://www.wikidata.org/entity/Q18210299</td></tr><tr><td>Green Card</td><td>102</td><td>http://www.wikidata.org/entity/Q505135</td></tr><tr><td>How Do You Know</td><td>116</td><td>http://www.wikidata.org/entity/Q523197</td></tr><tr><td>I'll Do Anything</td><td>115</td><td>http://www.wikidata.org/entity/Q853425</td></tr><tr><td>It's Complicated</td><td>118</td><td>http://www.wikidata.org/entity/Q843950</td></tr><tr><td>Kung Fu Panda</td><td>92</td><td>http://www.wikidata.org/entity/Q129193</td></tr><tr><td>Kung Fu Panda 2</td><td>91</td><td>http://www.wikidata.org/entity/Q487447</td></tr><tr><td>Kung Fu Panda 3</td><td>95</td><td>http://www.wikidata.org/entity/Q15055043</td></tr><tr><td>Kung Fu Panda 3</td><td>95</td><td>http://www.wikidata.org/entity/Q15055043</td></tr><tr><td>Madagascar 3: Europe's Most Wanted</td><td>93</td><td>http://www.wikidata.org/entity/Q244247</td></tr><tr><td>Madagascar 3: Europe's Most Wanted</td><td>93</td><td>http://www.wikidata.org/entity/Q244247</td></tr><tr><td>Matchstick Men</td><td>111</td><td>http://www.wikidata.org/entity/Q4536</td></tr><tr><td>Megamind</td><td>96</td><td>http://www.wikidata.org/entity/Q81205</td></tr><tr><td>Mr. Morgan's Last Love</td><td>116</td><td>http://www.wikidata.org/entity/Q6928990</td></tr><tr><td>Muppet Treasure Island</td><td>99</td><td>http://www.wikidata.org/entity/Q1788520</td></tr><tr><td>Nightmare at Noon</td><td>96</td><td>http://www.wikidata.org/entity/Q18511204</td></tr><tr><td>Nine Months</td><td>103</td><td>http://www.wikidata.org/entity/Q955389</td></tr><tr><td>Pacific Heights</td><td>103</td><td>http://www.wikidata.org/entity/Q1148079</td></tr><tr><td>Point of No Return</td><td>103</td><td>http://www.wikidata.org/entity/Q577469</td></tr><tr><td>Radio Flyer</td><td>114</td><td>http://www.wikidata.org/entity/Q12128282</td></tr><tr><td>Rango</td><td>107</td><td>http://www.wikidata.org/entity/Q275432</td></tr><tr><td>Regarding Henry</td><td>108</td><td>http://www.wikidata.org/entity/Q603865</td></tr><tr><td>Renaissance Man</td><td>117</td><td>http://www.wikidata.org/entity/Q129288</td></tr><tr><td>Sadako 3D</td><td>96</td><td>http://www.wikidata.org/entity/Q1058489</td></tr><tr><td>Sadako 3D</td><td>96</td><td>http://www.wikidata.org/entity/Q1058489</td></tr><tr><td>Something to Talk About</td><td>106</td><td>http://www.wikidata.org/entity/Q1544085</td></tr><tr><td>The Boss Baby</td><td>97</td><td>http://www.wikidata.org/entity/Q18619153</td></tr><tr><td>The Boss Baby</td><td>97</td><td>http://www.wikidata.org/entity/Q18619153</td></tr><tr><td>The Dilemma</td><td>111</td><td>http://www.wikidata.org/entity/Q1210206</td></tr><tr><td>The Fan</td><td>111</td><td>http://www.wikidata.org/entity/Q390299</td></tr><tr><td>The Lightship</td><td>92</td><td>http://www.wikidata.org/entity/Q2406188</td></tr><tr><td>The Lion King</td><td>118</td><td>http://www.wikidata.org/entity/Q27044293</td></tr><tr><td>The Little Prince</td><td>108</td><td>http://www.wikidata.org/entity/Q16386722</td></tr><tr><td>The Little Prince</td><td>108</td><td>http://www.wikidata.org/entity/Q16386722</td></tr><tr><td>The Peacemaker</td><td>118</td><td>http://www.wikidata.org/entity/Q1141706</td></tr><tr><td>The Preacher's Wife</td><td>119</td><td>http://www.wikidata.org/entity/Q1475674</td></tr><tr><td>The Prince of Egypt</td><td>99</td><td>http://www.wikidata.org/entity/Q245227</td></tr><tr><td>The Ring</td><td>116</td><td>http://www.wikidata.org/entity/Q212804</td></tr><tr><td>The Weather Man</td><td>102</td><td>http://www.wikidata.org/entity/Q60296</td></tr><tr><td>The Woman in Gold</td><td>109</td><td>http://www.wikidata.org/entity/Q17184103</td></tr><tr><td>Toys</td><td>116</td><td>http://www.wikidata.org/entity/Q1849238</td></tr><tr><td>Twister</td><td>93</td><td>http://www.wikidata.org/entity/Q4424430</td></tr><tr><td>Two Deaths</td><td>102</td><td>http://www.wikidata.org/entity/Q7858914</td></tr><tr><td>White Fang</td><td>104</td><td>http://www.wikidata.org/entity/Q135491</td></tr><tr><td>Winter's Tale</td><td>118</td><td>http://www.wikidata.org/entity/Q3569395</td></tr></tbody></table></body></html>"
   ]
  },
  {
   "cell_type": "markdown",
   "metadata": {},
   "source": [
    "## Consulta 8 ##"
   ]
  },
  {
   "cell_type": "markdown",
   "metadata": {},
   "source": [
    "Vamos a recuperar ahora las películas más actuales en las que Zimmer ha colaborado como compositor. Estamos interesados específicamente en películas que se hayan estrenado a partir de 2005."
   ]
  },
  {
   "cell_type": "markdown",
   "metadata": {},
   "source": [
    "Seguramente, en tu primer intento verás que cada película aparece repetida varias veces con fechas distintas porque Wikidata contiene las fechas de estreno en cada\n",
    "país. Vamos a considerar que la fecha real de estreno de la película es la fecha más antigua de todas ellas."
   ]
  },
  {
   "cell_type": "markdown",
   "metadata": {},
   "source": [
    "Para que cada película aparezca sólo una vez con la fecha correcta necesitarás agrupar las respuestas por película y título, y aplicar una función de agregación sobre las fechas de publicación. Los resultados se tienen que mostrar ordenados alfabéticamente."
   ]
  },
  {
   "cell_type": "code",
   "execution_count": null,
   "metadata": {},
   "outputs": [],
   "source": []
  },
  {
   "cell_type": "raw",
   "metadata": {},
   "source": [
    "SELECT ?pelicula ?peliculaLabel (MIN(?fecha) as ?minfecha)\n",
    "WHERE {\n",
    "  ?pelicula wdt:P31/wdt:P279* wd:Q11424.\n",
    "  ?pelicula wdt:P86 wd:Q76364;\n",
    "            wdt:P577 ?fecha.\n",
    "  FILTER(YEAR(?fecha) >= 2015).\n",
    "  SERVICE wikibase:label { bd:serviceParam wikibase:language \"[AUTO_LANGUAGE],en\". }\n",
    "}\n",
    "GROUP BY ?pelicula ?peliculaLabel ?minfecha\n",
    "ORDER BY ASC(?peliculaLabel)"
   ]
  },
  {
   "cell_type": "markdown",
   "metadata": {},
   "source": [
    "<html><head><meta charset=\"utf-8\"></head><body><table><thead><tr><th>pelicula</th><th>peliculaLabel</th><th>minfecha</th></tr></thead><tbody><tr><td>http://www.wikidata.org/entity/Q16155083</td><td>Batkid</td><td>2015-01-01T00:00:00Z</td></tr><tr><td>http://www.wikidata.org/entity/Q14772351</td><td>Batman v Superman: Dawn of Justice</td><td>2016-03-23T00:00:00Z</td></tr><tr><td>http://www.wikidata.org/entity/Q47069744</td><td>Believer</td><td>2018-01-01T00:00:00Z</td></tr><tr><td>http://www.wikidata.org/entity/Q21500755</td><td>Blade Runner 2049</td><td>2017-10-03T00:00:00Z</td></tr><tr><td>http://www.wikidata.org/entity/Q15209986</td><td>Chappie</td><td>2015-03-05T00:00:00Z</td></tr><tr><td>http://www.wikidata.org/entity/Q31188935</td><td>Dark Phoenix</td><td>2019-06-05T00:00:00Z</td></tr><tr><td>http://www.wikidata.org/entity/Q60834962</td><td>Dune</td><td>2020-01-01T00:00:00Z</td></tr><tr><td>http://www.wikidata.org/entity/Q21935651</td><td>Dunkirk</td><td>2017-07-13T00:00:00Z</td></tr><tr><td>http://www.wikidata.org/entity/Q18210299</td><td>Freeheld</td><td>2015-01-01T00:00:00Z</td></tr><tr><td>http://www.wikidata.org/entity/Q23755544</td><td>Hidden Figures</td><td>2016-12-26T00:00:00Z</td></tr><tr><td>http://www.wikidata.org/entity/Q18192306</td><td>Inferno</td><td>2016-10-13T00:00:00Z</td></tr><tr><td>http://www.wikidata.org/entity/Q15055043</td><td>Kung Fu Panda 3</td><td>2016-01-29T00:00:00Z</td></tr><tr><td>http://www.wikidata.org/entity/Q21534241</td><td>No Time to Die</td><td>2020-11-12T00:00:00Z</td></tr><tr><td>http://www.wikidata.org/entity/Q10350033</td><td>Pirates of the Caribbean: Dead Men Tell No Tales</td><td>2017-05-24T00:00:00Z</td></tr><tr><td>http://www.wikidata.org/entity/Q56850065</td><td>Space Jam: A New Legacy</td><td>2021-07-16T00:00:00Z</td></tr><tr><td>http://www.wikidata.org/entity/Q18619153</td><td>The Boss Baby</td><td>2017-01-01T00:00:00Z</td></tr><tr><td>http://www.wikidata.org/entity/Q18151554</td><td>The Last Face</td><td>2015-01-01T00:00:00Z</td></tr><tr><td>http://www.wikidata.org/entity/Q27044293</td><td>The Lion King</td><td>2019-07-17T00:00:00Z</td></tr><tr><td>http://www.wikidata.org/entity/Q16386722</td><td>The Little Prince</td><td>2015-07-29T00:00:00Z</td></tr><tr><td>http://www.wikidata.org/entity/Q18844656</td><td>The Secret Life of Pets</td><td>2016-06-16T00:00:00Z</td></tr><tr><td>http://www.wikidata.org/entity/Q61450772</td><td>The SpongeBob Movie: Sponge on the Run</td><td>2020-01-01T00:00:00Z</td></tr><tr><td>http://www.wikidata.org/entity/Q17184103</td><td>The Woman in Gold</td><td>2015-02-09T00:00:00Z</td></tr><tr><td>http://www.wikidata.org/entity/Q31202708</td><td>Top Gun: Maverick</td><td>2020-07-15T00:00:00Z</td></tr><tr><td>http://www.wikidata.org/entity/Q29163736</td><td>Widows</td><td>2018-11-06T00:00:00Z</td></tr><tr><td>http://www.wikidata.org/entity/Q33408623</td><td>Wonder Woman 1984</td><td>2020-06-05T00:00:00Z</td></tr></tbody></table></body></html>"
   ]
  },
  {
   "cell_type": "markdown",
   "metadata": {},
   "source": [
    "## Consulta 9 ##"
   ]
  },
  {
   "cell_type": "markdown",
   "metadata": {},
   "source": [
    "En una película pueden colaborar varios músicos. ¿Qué otros compositores han compuesto junto a Zimmer en una película? Para cada uno de ellos muestra su nombre, la fecha de nacimiento y (si ha fallecido) la fecha de defunción. \n",
    "\n",
    "Los resultados deben aparecer ordenados alfabéticamente."
   ]
  },
  {
   "cell_type": "code",
   "execution_count": null,
   "metadata": {},
   "outputs": [],
   "source": []
  },
  {
   "cell_type": "raw",
   "metadata": {},
   "source": []
  },
  {
   "cell_type": "code",
   "execution_count": null,
   "metadata": {},
   "outputs": [],
   "source": []
  },
  {
   "cell_type": "markdown",
   "metadata": {},
   "source": [
    "## Consulta 10 ##"
   ]
  },
  {
   "cell_type": "markdown",
   "metadata": {},
   "source": [
    "¿Cuántos asertos hay sobre Zimmer en Wikidata? \n",
    "\n",
    "Ten en cuenta que Zimmer puede aparecer tanto como sujeto como objeto de cada tripleta."
   ]
  },
  {
   "cell_type": "code",
   "execution_count": null,
   "metadata": {},
   "outputs": [],
   "source": []
  },
  {
   "cell_type": "raw",
   "metadata": {},
   "source": []
  },
  {
   "cell_type": "code",
   "execution_count": null,
   "metadata": {},
   "outputs": [],
   "source": []
  }
 ],
 "metadata": {
  "kernelspec": {
   "display_name": "Python 3",
   "language": "python",
   "name": "python3"
  },
  "language_info": {
   "codemirror_mode": {
    "name": "ipython",
    "version": 3
   },
   "file_extension": ".py",
   "mimetype": "text/x-python",
   "name": "python",
   "nbconvert_exporter": "python",
   "pygments_lexer": "ipython3",
   "version": "3.7.3"
  }
 },
 "nbformat": 4,
 "nbformat_minor": 2
}
